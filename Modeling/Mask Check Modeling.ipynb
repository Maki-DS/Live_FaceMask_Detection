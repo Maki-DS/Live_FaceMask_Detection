{
 "cells": [
  {
   "cell_type": "markdown",
   "id": "6446e1a4",
   "metadata": {},
   "source": [
    "The dataset contains two folders 'annotations' and 'images'.<br>\n",
    "annotations contains .xml files with image data and images contains png files <br>\n",
    ".xml is a markup  file commonly associated with webscraped data and stands for <br>\n",
    "\"Extensible Markup Language\"<br>\n",
    "these files contain elements within <>and the element info inbetween eg:\n",
    "\n",
    "\\</movie><br>\n",
    "\\<movie favorite=\"False\" title=\"Back 2 the Future\"><br>\n",
    "$\\qquad$    \\<format multiple=\"False\">Blu-ray</format><br>\n",
    "$\\qquad$   \\<year>1985</year><br>\n",
    "$\\qquad$   \\<rating>PG</rating><br>\n",
    "$\\qquad$    \\<description>Marty McFly</description><br>\n",
    "\\</movie><br>\n",
    "\n",
    "the [] after the root indicates how deep in the feature tree root we are\n",
    "\n",
    "on initial inspection the main properties we want are the file name image size and object bndbox"
   ]
  },
  {
   "cell_type": "code",
   "execution_count": 1,
   "id": "b470ddb5",
   "metadata": {},
   "outputs": [],
   "source": [
    "import os\n",
    "import xml.etree.ElementTree as ET\n",
    "import pandas as pd\n",
    "import numpy as np\n",
    "import cv2\n",
    "from tensorflow.keras.preprocessing.image import ImageDataGenerator, img_to_array\n",
    "from tensorflow.keras.applications import MobileNetV2\n",
    "from tensorflow.keras.layers import AveragePooling2D\n",
    "from tensorflow.keras.layers import Dropout, BatchNormalization\n",
    "from tensorflow.keras.layers import Flatten, Dense, Input, Model\n",
    "from tensorflow.keras.optimizers import Adam\n",
    "from tensorflow.keras.applications.mobilenet_v2 import preprocess_input\n",
    "from tensorflow.keras.preprocessing.image import img_to_array\n",
    "from tensorflow.keras.utils import to_categorical\n",
    "from sklearn.preprocessing import LabelEncoder\n",
    "from sklearn.model_selection import train_test_split\n",
    "from tensorflow.keras.callbacks import EarlyStopping"
   ]
  },
  {
   "cell_type": "code",
   "execution_count": 2,
   "id": "dc7c349a",
   "metadata": {},
   "outputs": [],
   "source": [
    "xml_path = 'annotations/'\n",
    "png_path = 'images/'"
   ]
  },
  {
   "cell_type": "code",
   "execution_count": 3,
   "id": "7b550a3b",
   "metadata": {},
   "outputs": [],
   "source": [
    "#read in xml files and image names to dict to make a dataframe\n",
    "final_dictionary = {'image_name':[],'image_dims':[]}\n",
    "\n",
    "#fill dict with 115 (max) objectsfor appending\n",
    "for i in range(1,116,1):\n",
    "    final_dictionary[f'object {i}']=[]\n",
    "\n",
    "for file in os.listdir(xml_path):\n",
    "    tree = ET.parse(xml_path+file)\n",
    "    root = tree.getroot()\n",
    "    img_data = []\n",
    "    #append img filename\n",
    "    img_data.append(root[1].text)\n",
    "    #append img dimensions (height,width)\n",
    "    img_data.append([root[2][1].text,root[2][0].text])\n",
    "    \n",
    "    #read in object data\n",
    "    for i in range(4,len(root)):\n",
    "        tmp = []\n",
    "        \n",
    "        #append mask status\n",
    "        tmp.append(root[i][0].text)\n",
    "        \n",
    "        #apend y and x max/min\n",
    "        for coords in root[i][5]:\n",
    "            tmp.append(coords.text)\n",
    "        img_data.append(tmp)\n",
    "        \n",
    "        #max xml length objects is 115 long so we need \n",
    "        #to fill equal columns so dataframe is uniform size\n",
    "    for i in range(len(img_data),119):\n",
    "        img_data.append(0)\n",
    "\n",
    "    for i, key in enumerate(final_dictionary):\n",
    "        final_dictionary[key].append(img_data[i])"
   ]
  },
  {
   "cell_type": "code",
   "execution_count": 4,
   "id": "6f7e80fd",
   "metadata": {},
   "outputs": [],
   "source": [
    "df = pd.DataFrame(final_dictionary)"
   ]
  },
  {
   "cell_type": "code",
   "execution_count": 5,
   "id": "9cf7423b",
   "metadata": {},
   "outputs": [
    {
     "data": {
      "text/plain": [
       "1      [156, 400]\n",
       "310    [188, 400]\n",
       "294    [197, 400]\n",
       "508    [198, 400]\n",
       "811    [200, 400]\n",
       "73     [200, 400]\n",
       "835    [200, 400]\n",
       "122    [200, 400]\n",
       "680    [200, 400]\n",
       "233    [200, 400]\n",
       "413    [200, 400]\n",
       "100    [200, 400]\n",
       "454    [200, 400]\n",
       "59     [200, 400]\n",
       "416    [203, 400]\n",
       "170    [206, 400]\n",
       "191    [208, 400]\n",
       "248    [208, 400]\n",
       "592    [209, 400]\n",
       "304    [209, 400]\n",
       "365    [210, 400]\n",
       "569    [210, 400]\n",
       "746    [210, 400]\n",
       "515    [210, 400]\n",
       "76     [210, 400]\n",
       "123    [210, 400]\n",
       "602    [210, 400]\n",
       "350    [210, 400]\n",
       "493    [210, 400]\n",
       "163    [210, 400]\n",
       "159    [210, 400]\n",
       "805    [210, 400]\n",
       "342    [210, 400]\n",
       "494    [210, 400]\n",
       "433    [211, 400]\n",
       "723    [211, 400]\n",
       "388    [216, 400]\n",
       "430    [217, 400]\n",
       "51     [217, 400]\n",
       "173    [217, 400]\n",
       "841    [217, 400]\n",
       "328    [218, 400]\n",
       "95     [220, 400]\n",
       "308    [221, 400]\n",
       "691    [221, 400]\n",
       "220    [221, 400]\n",
       "738    [225, 400]\n",
       "344    [225, 400]\n",
       "674    [225, 400]\n",
       "151    [225, 400]\n",
       "Name: image_dims, dtype: object"
      ]
     },
     "execution_count": 5,
     "metadata": {},
     "output_type": "execute_result"
    }
   ],
   "source": [
    "df['image_dims'].sort_values().head(50)"
   ]
  },
  {
   "cell_type": "code",
   "execution_count": 6,
   "id": "c5dd72dc",
   "metadata": {},
   "outputs": [
    {
     "data": {
      "text/plain": [
       "0"
      ]
     },
     "execution_count": 6,
     "metadata": {},
     "output_type": "execute_result"
    }
   ],
   "source": [
    "(df.dtypes != 'object').sum()"
   ]
  },
  {
   "cell_type": "code",
   "execution_count": 7,
   "id": "8077e3b1",
   "metadata": {
    "scrolled": false
   },
   "outputs": [],
   "source": [
    "face_num = []\n",
    "target_face_label = []\n",
    "\n",
    "label_dict = {'without_mask':0,'with_mask':1,'mask_weared_incorrect':2}\n",
    "\n",
    "# need to ensure im using same img and xml\n",
    "for i in range(0,853):\n",
    "    img_file_name = 'maksssksksss' + str(i) + '.png'\n",
    "    \n",
    "    num_faces=int(len(df.columns)-2-(df[df['image_name']==img_file_name]==0).sum(axis=1))\n",
    "    box_coords = []\n",
    "    labels = []\n",
    "    for j in range(1,(1+num_faces)):\n",
    "        df_slice = df[df['image_name']==img_file_name][f'object {j}']\n",
    "\n",
    "        #boxes\n",
    "        xmin = int(df_slice.apply(lambda x: x[1]))\n",
    "        ymin = int(df_slice.apply(lambda x: x[2]))\n",
    "        xmax = int(df_slice.apply(lambda x: x[3]))\n",
    "        ymax = int(df_slice.apply(lambda x: x[4]))\n",
    "        box_coords.append([xmin,ymin,xmax,ymax])\n",
    "        label = label_dict[df_slice.apply(lambda x: x[0]).values[0]]\n",
    "        labels.append(label)\n",
    "    box_coords = np.array(box_coords)\n",
    "    labels = np.array(labels)\n",
    "    \n",
    "    #save as dict so i can loop through face num and image box simultaneously \n",
    "    target = {'boxes':box_coords,'labels':labels}\n",
    "    target_face_label.append(target)\n",
    "                  \n",
    "    face_num.append(num_faces)"
   ]
  },
  {
   "cell_type": "markdown",
   "id": "548a91fd",
   "metadata": {},
   "source": [
    "Great success"
   ]
  },
  {
   "cell_type": "code",
   "execution_count": 8,
   "id": "e7767807",
   "metadata": {},
   "outputs": [
    {
     "data": {
      "text/plain": [
       "3"
      ]
     },
     "execution_count": 8,
     "metadata": {},
     "output_type": "execute_result"
    }
   ],
   "source": [
    "int(len(df.columns)-2-(df[df['image_name']=='maksssksksss0.png']==0).sum(axis=1))"
   ]
  },
  {
   "cell_type": "code",
   "execution_count": 9,
   "id": "8e4af74b",
   "metadata": {},
   "outputs": [
    {
     "name": "stdout",
     "output_type": "stream",
     "text": [
      "853 853\n"
     ]
    }
   ],
   "source": [
    "print(len(target_face_label),len(face_num))"
   ]
  },
  {
   "cell_type": "code",
   "execution_count": 10,
   "id": "32c4b87d",
   "metadata": {},
   "outputs": [],
   "source": [
    "#we will use the face_num, and target_face_label to extract the \n",
    "#face images (boxes) and labels\n",
    "#Mobilenet suggests an image input size of (224, 224, 3).\n",
    "#https://keras.io/api/applications/mobilenet/#mobilenetv2-function\n",
    "face_img = []\n",
    "img_label = []\n",
    "\n",
    "for i in range(0,853):\n",
    "    file_name = 'maksssksksss' + str(i) + '.png'    \n",
    "    img = cv2.imread(png_path+file_name)\n",
    "    \n",
    "    for j in range(face_num[i]):\n",
    "        box = target_face_label[i]['boxes'][j]\n",
    "        \n",
    "        #cut and resize img remembering cv2 reads y then x\n",
    "        cut_img = img[box[1]:box[3],box[0]:box[2]]\n",
    "        resize_img =cv2.resize(cut_img,(224,224))\n",
    "        img_array = img_to_array(resize_img)\n",
    "        final_img = preprocess_input(img_array)\n",
    "        #append\n",
    "        face_img.append(final_img)\n",
    "        img_label.append(target_face_label[i]['labels'][j])\n",
    "        \n",
    "face_img = np.array(face_img,dtype='float32')\n",
    "img_label = np.array(img_label)"
   ]
  },
  {
   "cell_type": "code",
   "execution_count": 11,
   "id": "bb172717",
   "metadata": {},
   "outputs": [
    {
     "data": {
      "text/plain": [
       "(4072, 224, 224, 3)"
      ]
     },
     "execution_count": 11,
     "metadata": {},
     "output_type": "execute_result"
    }
   ],
   "source": [
    "face_img.shape"
   ]
  },
  {
   "cell_type": "code",
   "execution_count": 12,
   "id": "4fe2d0d9",
   "metadata": {},
   "outputs": [
    {
     "data": {
      "text/plain": [
       "(array([0, 1, 2]), array([ 717, 3232,  123], dtype=int64))"
      ]
     },
     "execution_count": 12,
     "metadata": {},
     "output_type": "execute_result"
    }
   ],
   "source": [
    "#labels need to be one hot encoded\n",
    "np.unique(img_label,return_counts=True)"
   ]
  },
  {
   "cell_type": "markdown",
   "id": "7b59529a",
   "metadata": {},
   "source": [
    "imbalenced classes<br>\n",
    "https://www.tensorflow.org/api_docs/python/tf/keras/preprocessing/image/ImageDataGenerator\n",
    "\n",
    "we will generate after train_test split to make classes more balenced"
   ]
  },
  {
   "cell_type": "markdown",
   "id": "c702b673",
   "metadata": {},
   "source": [
    "# Modeling and data processing \n",
    "\n",
    "To model this problem we need to determine the best CNN framework avalible. MobileNet (https://arxiv.org/pdf/1704.04861.pdf / https://arxiv.org/abs/1801.04381) seems like an obvious choice as it is mall in size and computationally faster than a full CNN. These factors make MobileNet more attractive when thinking of implementing this model in a real world scenario (shown in workbook 2)."
   ]
  },
  {
   "cell_type": "code",
   "execution_count": 13,
   "id": "8ad58e30",
   "metadata": {},
   "outputs": [],
   "source": [
    "#Data is in face_img, img_label\n",
    "LE = LabelEncoder()\n",
    "labels = LE.fit_transform(img_label)\n",
    "labels = to_categorical(labels)\n",
    "\n",
    "X_train, X_test, y_train, y_test = train_test_split(face_img, labels, test_size=0.2, random_state=930609, stratify=labels)"
   ]
  },
  {
   "cell_type": "code",
   "execution_count": 14,
   "id": "bc15b02e",
   "metadata": {},
   "outputs": [],
   "source": [
    "#set up data generator\n",
    "datagen = ImageDataGenerator(rotation_range=20,\n",
    "                             width_shift_range=0.1,\n",
    "                             height_shift_range=0.1,\n",
    "                             shear_range=0.1,\n",
    "                             fill_mode='nearest',\n",
    "                             horizontal_flip=True,\n",
    "                             vertical_flip=False,\n",
    "                             rescale=0,\n",
    "                             dtype='float32')"
   ]
  },
  {
   "cell_type": "code",
   "execution_count": 15,
   "id": "a9208586",
   "metadata": {},
   "outputs": [],
   "source": [
    "#define the model\n",
    "base_model = MobileNetV2(weights=\"imagenet\", \n",
    "                        include_top=False, \n",
    "                        input_shape=(224, 224, 3))\n",
    "\n",
    "# the base model\n",
    "head_model = base_model.output\n",
    "head_model = AveragePooling2D(pool_size=(7, 7))(head_model)\n",
    "head_model = Flatten(name=\"flatten\")(head_model)\n",
    "head_model = Dense(224, activation=\"relu\")(head_model)\n",
    "head_model = Dropout(0.25)(head_model)\n",
    "head_model = Dense(3, activation=\"softmax\")(head_model)\n",
    "\n",
    "model = Model(inputs=base_model.input, outputs=head_model)\n",
    "\n",
    "for layer in base_model.layers:\n",
    "    layer.trainable = False"
   ]
  },
  {
   "cell_type": "code",
   "execution_count": 16,
   "id": "70c5906b",
   "metadata": {},
   "outputs": [],
   "source": [
    "model.compile(loss=\"categorical_crossentropy\", optimizer='adam',metrics=[\"accuracy\"])"
   ]
  },
  {
   "cell_type": "code",
   "execution_count": 18,
   "id": "5dc05e7d",
   "metadata": {
    "scrolled": false
   },
   "outputs": [
    {
     "name": "stdout",
     "output_type": "stream",
     "text": [
      "Epoch 1/25\n",
      "102/102 [==============================] - 105s 1s/step - loss: 0.2554 - accuracy: 0.9039 - val_loss: 0.2168 - val_accuracy: 0.9239\n",
      "Epoch 2/25\n",
      "102/102 [==============================] - 108s 1s/step - loss: 0.2285 - accuracy: 0.9171 - val_loss: 0.1945 - val_accuracy: 0.9263\n",
      "Epoch 3/25\n",
      "102/102 [==============================] - 108s 1s/step - loss: 0.2061 - accuracy: 0.9248 - val_loss: 0.1971 - val_accuracy: 0.9251\n",
      "Epoch 4/25\n",
      "102/102 [==============================] - 109s 1s/step - loss: 0.1912 - accuracy: 0.9315 - val_loss: 0.2052 - val_accuracy: 0.9340\n",
      "Epoch 5/25\n",
      "102/102 [==============================] - 109s 1s/step - loss: 0.2012 - accuracy: 0.9288 - val_loss: 0.1684 - val_accuracy: 0.9371\n",
      "Epoch 6/25\n",
      "102/102 [==============================] - 112s 1s/step - loss: 0.1876 - accuracy: 0.9328 - val_loss: 0.1689 - val_accuracy: 0.9432\n",
      "Epoch 7/25\n",
      "102/102 [==============================] - 110s 1s/step - loss: 0.1901 - accuracy: 0.9269 - val_loss: 0.1474 - val_accuracy: 0.9441\n",
      "Epoch 8/25\n",
      "102/102 [==============================] - 103s 1s/step - loss: 0.1651 - accuracy: 0.9377 - val_loss: 0.1322 - val_accuracy: 0.9561\n",
      "Epoch 9/25\n",
      "102/102 [==============================] - 101s 993ms/step - loss: 0.1652 - accuracy: 0.9377 - val_loss: 0.1496 - val_accuracy: 0.9432\n",
      "Epoch 10/25\n",
      "102/102 [==============================] - 102s 1s/step - loss: 0.1685 - accuracy: 0.9371 - val_loss: 0.1225 - val_accuracy: 0.9586\n",
      "Epoch 11/25\n",
      "102/102 [==============================] - 102s 1s/step - loss: 0.1635 - accuracy: 0.9389 - val_loss: 0.1211 - val_accuracy: 0.9573\n",
      "Epoch 12/25\n",
      "102/102 [==============================] - 100s 984ms/step - loss: 0.1650 - accuracy: 0.9380 - val_loss: 0.1327 - val_accuracy: 0.9546\n",
      "Epoch 13/25\n",
      "102/102 [==============================] - 100s 984ms/step - loss: 0.1404 - accuracy: 0.9463 - val_loss: 0.1182 - val_accuracy: 0.9555\n",
      "Epoch 14/25\n",
      "102/102 [==============================] - 114s 1s/step - loss: 0.1513 - accuracy: 0.9447 - val_loss: 0.1181 - val_accuracy: 0.9570\n",
      "Epoch 15/25\n",
      "102/102 [==============================] - 118s 1s/step - loss: 0.1511 - accuracy: 0.9450 - val_loss: 0.1168 - val_accuracy: 0.9622\n",
      "Epoch 16/25\n",
      "102/102 [==============================] - 118s 1s/step - loss: 0.1519 - accuracy: 0.9414 - val_loss: 0.1071 - val_accuracy: 0.9604\n",
      "Epoch 17/25\n",
      "102/102 [==============================] - 113s 1s/step - loss: 0.1406 - accuracy: 0.9438 - val_loss: 0.1033 - val_accuracy: 0.9613\n",
      "Epoch 18/25\n",
      "102/102 [==============================] - 112s 1s/step - loss: 0.1267 - accuracy: 0.9564 - val_loss: 0.1135 - val_accuracy: 0.9558\n",
      "Epoch 19/25\n",
      "102/102 [==============================] - 112s 1s/step - loss: 0.1409 - accuracy: 0.9478 - val_loss: 0.1137 - val_accuracy: 0.9539\n",
      "Epoch 20/25\n",
      "102/102 [==============================] - 113s 1s/step - loss: 0.1249 - accuracy: 0.9518 - val_loss: 0.0898 - val_accuracy: 0.9687\n",
      "Epoch 21/25\n",
      "102/102 [==============================] - 112s 1s/step - loss: 0.1202 - accuracy: 0.9552 - val_loss: 0.0910 - val_accuracy: 0.9641\n",
      "Epoch 22/25\n",
      "102/102 [==============================] - 111s 1s/step - loss: 0.1299 - accuracy: 0.9512 - val_loss: 0.1116 - val_accuracy: 0.9576\n",
      "Epoch 23/25\n",
      "102/102 [==============================] - 104s 1s/step - loss: 0.1152 - accuracy: 0.9589 - val_loss: 0.1085 - val_accuracy: 0.9616\n"
     ]
    },
    {
     "data": {
      "text/plain": [
       "<tensorflow.python.keras.callbacks.History at 0x1bafd549c10>"
      ]
     },
     "execution_count": 18,
     "metadata": {},
     "output_type": "execute_result"
    }
   ],
   "source": [
    "early_stop = EarlyStopping(monitor='val_loss',patience=3)\n",
    "\n",
    "model.fit(datagen.flow(X_train, y_train),\n",
    "          validation_data=(X_train, y_train),\n",
    "          epochs=25,\n",
    "          callbacks=[early_stop]) "
   ]
  },
  {
   "cell_type": "code",
   "execution_count": 19,
   "id": "3196ee56",
   "metadata": {},
   "outputs": [
    {
     "data": {
      "text/plain": [
       "<AxesSubplot:>"
      ]
     },
     "execution_count": 19,
     "metadata": {},
     "output_type": "execute_result"
    },
    {
     "data": {
      "image/png": "[encoded data removed]",
      "text/plain": [
       "<Figure size 432x288 with 1 Axes>"
      ]
     },
     "metadata": {
      "needs_background": "light"
     },
     "output_type": "display_data"
    },
    {
     "data": {
      "image/png": "[encoded data removed]",
      "text/plain": [
       "<Figure size 432x288 with 1 Axes>"
      ]
     },
     "metadata": {
      "needs_background": "light"
     },
     "output_type": "display_data"
    }
   ],
   "source": [
    "losses = pd.DataFrame(model.history.history)\n",
    "losses[['accuracy','val_accuracy']].plot()\n",
    "losses[['loss','val_loss']].plot()"
   ]
  },
  {
   "cell_type": "code",
   "execution_count": 22,
   "id": "f46eb67d",
   "metadata": {},
   "outputs": [],
   "source": [
    "predictions = model.predict(X_test)"
   ]
  },
  {
   "cell_type": "code",
   "execution_count": 25,
   "id": "534f48cb",
   "metadata": {},
   "outputs": [
    {
     "data": {
      "text/plain": [
       "array([1, 0, 1, 0, 1, 1, 1, 1, 1, 0, 0, 1, 0, 0, 1, 1, 1, 1, 1, 1, 1, 0,\n",
       "       1, 1, 0, 1, 1, 0, 0, 1, 1, 1, 1, 0, 1, 1, 1, 1, 0, 1, 1, 0, 1, 1,\n",
       "       1, 1, 1, 1, 1, 0, 1, 0, 1, 1, 1, 1, 1, 1, 1, 1, 1, 1, 1, 1, 0, 0,\n",
       "       1, 1, 1, 1, 1, 1, 0, 0, 1, 0, 1, 1, 1, 1, 1, 1, 1, 1, 1, 1, 1, 0,\n",
       "       1, 0, 1, 2, 1, 1, 1, 1, 0, 1, 0, 1, 0, 1, 1, 1, 1, 1, 1, 1, 1, 1,\n",
       "       1, 1, 1, 0, 1, 1, 1, 1, 1, 1, 1, 1, 1, 1, 1, 0, 1, 1, 0, 0, 1, 0,\n",
       "       1, 1, 1, 1, 1, 1, 1, 1, 1, 1, 0, 1, 1, 1, 1, 1, 1, 0, 1, 1, 1, 0,\n",
       "       1, 1, 1, 1, 1, 1, 1, 1, 1, 0, 1, 1, 1, 1, 1, 0, 1, 1, 0, 2, 1, 1,\n",
       "       1, 1, 0, 1, 1, 1, 1, 1, 1, 1, 1, 1, 1, 1, 1, 0, 0, 1, 1, 1, 1, 1,\n",
       "       1, 1, 0, 1, 1, 1, 1, 1, 1, 0, 1, 1, 0, 1, 1, 1, 1, 0, 1, 1, 0, 1,\n",
       "       1, 1, 0, 1, 0, 1, 1, 0, 1, 0, 0, 1, 0, 1, 1, 1, 1, 1, 1, 0, 1, 1,\n",
       "       0, 1, 1, 0, 0, 1, 1, 1, 1, 1, 1, 1, 1, 1, 1, 1, 0, 1, 1, 1, 0, 1,\n",
       "       0, 1, 1, 1, 1, 1, 0, 1, 0, 1, 1, 1, 1, 1, 1, 1, 2, 0, 1, 0, 1, 1,\n",
       "       1, 1, 1, 1, 1, 1, 2, 0, 0, 0, 0, 0, 1, 1, 0, 1, 0, 1, 1, 1, 1, 1,\n",
       "       1, 0, 1, 1, 0, 1, 1, 1, 1, 1, 1, 0, 1, 1, 1, 1, 0, 0, 0, 0, 1, 1,\n",
       "       2, 1, 1, 1, 0, 1, 0, 1, 1, 1, 1, 0, 0, 1, 1, 1, 0, 1, 0, 1, 1, 1,\n",
       "       1, 1, 1, 1, 1, 1, 1, 1, 1, 0, 1, 0, 1, 1, 1, 1, 1, 1, 1, 1, 1, 1,\n",
       "       1, 1, 1, 1, 0, 1, 1, 1, 1, 1, 1, 1, 1, 1, 1, 1, 0, 1, 1, 1, 1, 1,\n",
       "       1, 1, 1, 0, 1, 1, 1, 1, 1, 1, 0, 1, 1, 1, 0, 1, 1, 0, 0, 1, 1, 1,\n",
       "       1, 1, 1, 1, 1, 1, 0, 0, 0, 1, 1, 1, 0, 0, 1, 1, 1, 1, 1, 1, 1, 1,\n",
       "       1, 1, 1, 1, 1, 1, 1, 1, 1, 1, 1, 1, 1, 1, 1, 1, 1, 1, 1, 1, 0, 1,\n",
       "       1, 1, 0, 1, 1, 1, 0, 1, 0, 1, 1, 1, 0, 0, 1, 1, 1, 0, 1, 1, 0, 1,\n",
       "       1, 1, 1, 1, 1, 1, 1, 1, 2, 1, 0, 1, 1, 1, 1, 1, 1, 1, 1, 1, 1, 1,\n",
       "       1, 0, 0, 1, 1, 1, 1, 0, 0, 1, 1, 1, 0, 1, 1, 1, 0, 1, 1, 1, 1, 0,\n",
       "       0, 0, 1, 1, 1, 1, 1, 1, 1, 1, 1, 1, 1, 1, 1, 1, 1, 0, 0, 0, 0, 1,\n",
       "       1, 1, 1, 1, 1, 1, 1, 1, 1, 1, 1, 1, 0, 1, 0, 0, 1, 1, 1, 1, 1, 1,\n",
       "       1, 1, 1, 1, 1, 1, 1, 1, 1, 0, 1, 1, 0, 1, 0, 1, 1, 1, 1, 0, 1, 1,\n",
       "       1, 0, 1, 1, 0, 1, 1, 0, 1, 1, 1, 1, 1, 1, 1, 1, 2, 1, 1, 0, 1, 1,\n",
       "       0, 1, 1, 1, 2, 1, 0, 0, 1, 1, 1, 0, 2, 1, 1, 1, 1, 0, 1, 0, 0, 1,\n",
       "       1, 1, 1, 0, 1, 1, 1, 0, 0, 0, 1, 1, 1, 1, 1, 1, 1, 1, 1, 1, 1, 1,\n",
       "       0, 1, 1, 1, 2, 1, 1, 1, 0, 1, 1, 1, 1, 1, 2, 1, 1, 0, 0, 1, 0, 0,\n",
       "       1, 0, 1, 1, 1, 0, 0, 1, 1, 1, 1, 1, 1, 1, 1, 1, 1, 0, 1, 1, 1, 1,\n",
       "       1, 0, 1, 1, 1, 1, 1, 1, 1, 0, 0, 1, 1, 1, 1, 1, 0, 2, 1, 1, 1, 1,\n",
       "       1, 1, 0, 1, 0, 1, 1, 1, 1, 2, 0, 1, 1, 1, 1, 1, 1, 1, 1, 1, 0, 1,\n",
       "       1, 1, 1, 1, 1, 1, 0, 1, 1, 1, 1, 1, 1, 1, 1, 2, 0, 1, 1, 1, 0, 1,\n",
       "       1, 1, 0, 1, 1, 1, 1, 1, 1, 0, 1, 1, 1, 0, 1, 1, 1, 1, 1, 1, 1, 0,\n",
       "       1, 1, 1, 1, 1, 1, 0, 1, 1, 1, 1, 1, 1, 0, 1, 0, 1, 0, 1, 1, 1, 1,\n",
       "       1], dtype=int64)"
      ]
     },
     "execution_count": 25,
     "metadata": {},
     "output_type": "execute_result"
    }
   ],
   "source": [
    "predictions = np.argmax(predictions, axis=1)\n",
    "predictions"
   ]
  },
  {
   "cell_type": "code",
   "execution_count": 26,
   "id": "32469504",
   "metadata": {},
   "outputs": [
    {
     "name": "stdout",
     "output_type": "stream",
     "text": [
      "              precision    recall  f1-score   support\n",
      "\n",
      "           0       0.79      0.93      0.86       143\n",
      "           1       0.97      0.95      0.96       647\n",
      "           2       0.79      0.44      0.56        25\n",
      "\n",
      "    accuracy                           0.93       815\n",
      "   macro avg       0.85      0.77      0.79       815\n",
      "weighted avg       0.93      0.93      0.93       815\n",
      "\n"
     ]
    }
   ],
   "source": [
    "from sklearn.metrics import classification_report\n",
    "print(classification_report(y_test.argmax(axis=1), predictions))"
   ]
  },
  {
   "cell_type": "code",
   "execution_count": 28,
   "id": "894e2584",
   "metadata": {},
   "outputs": [],
   "source": [
    "#save model to json and weights to h5\n",
    "model_json = model.to_json()\n",
    "with open(\"model.json\", \"w\") as json_file:\n",
    "    json_file.write(model_json)\n",
    "model.save_weights(\"model.h5\")"
   ]
  },
  {
   "cell_type": "code",
   "execution_count": null,
   "id": "052ab49b",
   "metadata": {},
   "outputs": [],
   "source": [
    "#how to load\n",
    "#json_file = open('model.json', 'r')\n",
    "#loaded_model_json = json_file.read()\n",
    "#json_file.close()\n",
    "#loaded_model = model_from_json(loaded_model_json)\n",
    "# load weights into new model\n",
    "#loaded_model.load_weights(\"model.h5\")\n",
    "#print(\"Loaded model from disk\")"
   ]
  }
 ],
 "metadata": {
  "kernelspec": {
   "display_name": "Python 3",
   "language": "python",
   "name": "python3"
  },
  "language_info": {
   "codemirror_mode": {
    "name": "ipython",
    "version": 3
   },
   "file_extension": ".py",
   "mimetype": "text/x-python",
   "name": "python",
   "nbconvert_exporter": "python",
   "pygments_lexer": "ipython3",
   "version": "3.8.8"
  },
  "toc": {
   "base_numbering": 1,
   "nav_menu": {},
   "number_sections": true,
   "sideBar": true,
   "skip_h1_title": false,
   "title_cell": "Table of Contents",
   "title_sidebar": "Contents",
   "toc_cell": false,
   "toc_position": {},
   "toc_section_display": true,
   "toc_window_display": false
  }
 },
 "nbformat": 4,
 "nbformat_minor": 5
}
